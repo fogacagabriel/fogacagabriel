{
  "nbformat": 4,
  "nbformat_minor": 0,
  "metadata": {
    "colab": {
      "name": "Untitled0.ipynb",
      "provenance": [],
      "collapsed_sections": [],
      "authorship_tag": "ABX9TyOIXaP8CLivyDf629PD78LU",
      "include_colab_link": true
    },
    "kernelspec": {
      "name": "python3",
      "display_name": "Python 3"
    },
    "language_info": {
      "name": "python"
    }
  },
  "cells": [
    {
      "cell_type": "markdown",
      "metadata": {
        "id": "view-in-github",
        "colab_type": "text"
      },
      "source": [
        "<a href=\"https://colab.research.google.com/github/fogacagabriel/fogacagabriel/blob/main/Pequeno-analisador-de-strings.ipynb\" target=\"_parent\"><img src=\"https://colab.research.google.com/assets/colab-badge.svg\" alt=\"Open In Colab\"/></a>"
      ]
    },
    {
      "cell_type": "code",
      "metadata": {
        "colab": {
          "base_uri": "https://localhost:8080/"
        },
        "id": "mLE6P8mz81JG",
        "outputId": "9d3d2c11-425e-4c35-e7f5-cf6b4e73f4e7"
      },
      "source": [
        "#Pequeno analisador de uma string qualquer:\n",
        "texto = input('Insira a string a ser analisada: ')\n",
        "espacos= 0\n",
        "letras =0\n",
        "numeros = 0\n",
        "total = 0\n",
        "for l in texto:\n",
        "  if l.isalpha():\n",
        "    letras = letras+1\n",
        "  elif l.isspace():\n",
        "    espacos = espacos+1\n",
        "  elif l.isdigit():\n",
        "    numeros = numeros+1\n",
        "total = letras + espacos + numeros\n",
        "\n",
        "print('O total de espaços é', espacos, '\\nO total de letras é', letras, '\\nO total de numeros é', numeros,'\\nO total da string é', total)\n"
      ],
      "execution_count": 28,
      "outputs": [
        {
          "output_type": "stream",
          "text": [
            "Insira a string a ser analisada: banana amarela\n",
            "O total de espaços é 1 \n",
            "O total de letras é 13 \n",
            "O total de numeros é 0 \n",
            "O total da string é 14\n"
          ],
          "name": "stdout"
        }
      ]
    },
    {
      "cell_type": "code",
      "metadata": {
        "id": "mj_VvcVh_mFz"
      },
      "source": [
        "\n"
      ],
      "execution_count": 16,
      "outputs": []
    },
    {
      "cell_type": "code",
      "metadata": {
        "id": "5xjm5Rzr_pe4"
      },
      "source": [
        ""
      ],
      "execution_count": 16,
      "outputs": []
    },
    {
      "cell_type": "code",
      "metadata": {
        "id": "ePUceqiqBikp"
      },
      "source": [
        ""
      ],
      "execution_count": null,
      "outputs": []
    }
  ]
}